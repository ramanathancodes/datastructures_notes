{
 "cells": [
  {
   "cell_type": "markdown",
   "metadata": {},
   "source": [
    "# Python Print function<br>\n",
    "## First things First<br>\n",
    "### *A proper \"Hello world!\"*<br>"
   ]
  },
  {
   "cell_type": "code",
   "execution_count": null,
   "metadata": {},
   "outputs": [],
   "source": [
    "print(\"Hello world!\")"
   ]
  },
  {
   "cell_type": "markdown",
   "metadata": {},
   "source": [
    "### Calling just print() funtion alone will print a new line \\n"
   ]
  },
  {
   "cell_type": "code",
   "execution_count": null,
   "metadata": {},
   "outputs": [],
   "source": [
    "print()\n",
    "print('str1')\n",
    "print()\n",
    "print('str2')"
   ]
  },
  {
   "cell_type": "markdown",
   "metadata": {},
   "source": [
    "### Using end =' ' in print() to discard default new line printed at end"
   ]
  },
  {
   "cell_type": "code",
   "execution_count": null,
   "metadata": {},
   "outputs": [],
   "source": [
    "print('this doesnt follow a newline, ',end='')\n",
    "print('but this follows a newline')\n",
    "print('...')"
   ]
  },
  {
   "cell_type": "markdown",
   "metadata": {},
   "source": [
    "### Printing with string literals vs Variables vs string concetenation"
   ]
  },
  {
   "cell_type": "code",
   "execution_count": null,
   "metadata": {},
   "outputs": [],
   "source": [
    "print('I am running Python in Macbook')\n",
    "message = 'I am running Python in Macbook'\n",
    "\n",
    "print(message)\n",
    "\n",
    "prog_lang = 'Python'\n",
    "pc_make = 'Macbook'\n",
    "print('I am running', prog_lang, 'in', pc_make)"
   ]
  },
  {
   "cell_type": "markdown",
   "metadata": {},
   "source": [
    "### Even there are dozens of formating options in Python. Its highly encouraged to use f-strings <br> because of their concize syntax"
   ]
  },
  {
   "cell_type": "code",
   "execution_count": null,
   "metadata": {},
   "outputs": [],
   "source": [
    "prog_lang = 'Python'\n",
    "pc_make = 'Macbook'\n",
    "print(f'I am running {prog_lang} in {pc_make}')"
   ]
  },
  {
   "cell_type": "markdown",
   "metadata": {},
   "source": [
    "#### Another big pros of fstring over concatenation is there is no need to typecast concatenated operands\n",
    "##### I am using Python 3.6 --> Printing this Python , String concatenation would require print('I am using Python' + str(3.6)) <br> Not ('I am using Python' + 3.6)\n",
    "##### For this reason , Python is called strongly typed langauage. Meaning Python interprets how we write it to find meaning.\n"
   ]
  },
  {
   "cell_type": "code",
   "execution_count": null,
   "metadata": {},
   "outputs": [],
   "source": [
    "print(f'I am using Python {3.6}')\n",
    "print('I am using Python ' + '3.6')\n",
    "print('I am using Python ' + str(3.6))"
   ]
  },
  {
   "cell_type": "markdown",
   "metadata": {},
   "source": [
    "#### Print works with numbers , string literals , expressions of any type . on background , print converts everything into str , so that it work with diff data types or expression"
   ]
  },
  {
   "cell_type": "code",
   "execution_count": 2,
   "metadata": {},
   "outputs": [
    {
     "name": "stdout",
     "output_type": "stream",
     "text": [
      "value is 42 and type is <class 'int'>\n",
      "value is Python and type is <class 'str'>\n",
      "value is 3.14 and type is <class 'float'>\n",
      "value is True and type is <class 'bool'>\n",
      "value is None and type is <class 'NoneType'>\n",
      "value is [10, 20, 30] and type is <class 'list'>\n",
      "value is (10, 20, 30) and type is <class 'tuple'>\n",
      "value is {'name': 'Alice', 'age': 42} and type is <class 'dict'>\n",
      "value is {'Bob', 'Charlie', 'Alice'} and type is <class 'set'>\n",
      "value is (1+2j) and type is <class 'complex'>\n"
     ]
    }
   ],
   "source": [
    "myVar = 42\n",
    "print(f'value is {myVar} and type is {type(myVar)}')\n",
    "\n",
    "myVar = 'Python'\n",
    "print(f'value is {myVar} and type is {type(myVar)}')\n",
    "\n",
    "myVar = 3.14\n",
    "print(f'value is {myVar} and type is {type(myVar)}')\n",
    "\n",
    "myVar = True\n",
    "print(f'value is {myVar} and type is {type(myVar)}')\n",
    "\n",
    "myVar = None\n",
    "print(f'value is {myVar} and type is {type(myVar)}')\n",
    "\n",
    "myVar = [10, 20, 30]\n",
    "print(f'value is {myVar} and type is {type(myVar)}')\n",
    "\n",
    "myVar = (10, 20, 30)\n",
    "print(f'value is {myVar} and type is {type(myVar)}')\n",
    "\n",
    "myVar = {'name': 'Alice', 'age': 42}\n",
    "print(f'value is {myVar} and type is {type(myVar)}')\n",
    "\n",
    "myVar = {'Alice', 'Bob', 'Charlie'}\n",
    "print(f'value is {myVar} and type is {type(myVar)}')\n",
    "\n",
    "myVar = (1 + 2j)\n",
    "print(f'value is {myVar} and type is {type(myVar)}')\n",
    "\n",
    "\n"
   ]
  },
  {
   "cell_type": "markdown",
   "metadata": {},
   "source": [
    "#### Before exploring Print's Positional & keyword arguments , lets explore them in general. These arguments are classified as positional or keyword based on how we call them. \n",
    "\n",
    "#### For example , func(Maths,26) is a positional argument for func(sub,marks) whereas fun(marks=26,sub=Maths) is a keyword argument for func(sub,marks)"
   ]
  },
  {
   "cell_type": "code",
   "execution_count": 6,
   "metadata": {},
   "outputs": [
    {
     "name": "stdout",
     "output_type": "stream",
     "text": [
      "Maths : 90\n",
      "Science : 90\n"
     ]
    }
   ],
   "source": [
    "def printMarks(sub,mark):\n",
    "    print(f'{sub} : {mark}')\n",
    "\n",
    "printMarks('Maths', 90)\n",
    "printMarks(mark=90,sub='Science')"
   ]
  },
  {
   "cell_type": "markdown",
   "metadata": {},
   "source": [
    "#### Print accepts multiple arguments as positional arguments and concatenates them with single space character so it wont end up unreadable without distinguishment\n",
    "\n"
   ]
  },
  {
   "cell_type": "code",
   "execution_count": 6,
   "metadata": {},
   "outputs": [
    {
     "name": "stdout",
     "output_type": "stream",
     "text": [
      "42 ram [1, 2, 3, 4]\n",
      "42ram[1, 2, 3, 4]\n",
      "42 ram [1, 2, 3, 4]\n"
     ]
    }
   ],
   "source": [
    "print(42 , 'ram' , [1,2,3,4])\n",
    "\n",
    "print(42 , 'ram' , [1,2,3,4],sep ='')\n",
    "\n",
    "print(42 , 'ram' , [1,2,3,4],sep =None)"
   ]
  },
  {
   "cell_type": "markdown",
   "metadata": {},
   "source": [
    "#### print() will add \\n to end , it can be modified with keyword argument \"end\". \n",
    "#### 1.It must be string value\n",
    "#### 2.It can very long\n",
    "#### 3.It has default value of \\n\n",
    "#### 4.if equal to None, it will have default value\n",
    "#### 5.if its equal to empty string (''), it suppresses new line."
   ]
  },
  {
   "cell_type": "code",
   "execution_count": 13,
   "metadata": {},
   "outputs": [
    {
     "name": "stdout",
     "output_type": "stream",
     "text": [
      "The First sentence. The second sentence. The third sentence.\n",
      "*The First sentence\n",
      "*The second sentence\n",
      "*The third sentence.\n"
     ]
    }
   ],
   "source": [
    "print('The First sentence',end='. ')\n",
    "print('The second sentence',end='. ')\n",
    "print('The third sentence.')\n",
    "\n",
    "print('*The First sentence',end='\\n*')\n",
    "print('The second sentence',end='\\n*')\n",
    "print('The third sentence.')"
   ]
  }
 ],
 "metadata": {
  "kernelspec": {
   "display_name": "Python 3",
   "language": "python",
   "name": "python3"
  },
  "language_info": {
   "codemirror_mode": {
    "name": "ipython",
    "version": 3
   },
   "file_extension": ".py",
   "mimetype": "text/x-python",
   "name": "python",
   "nbconvert_exporter": "python",
   "pygments_lexer": "ipython3",
   "version": "3.9.6"
  }
 },
 "nbformat": 4,
 "nbformat_minor": 2
}
